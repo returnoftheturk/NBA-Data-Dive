{
 "cells": [
  {
   "cell_type": "code",
   "execution_count": 1,
   "metadata": {
    "collapsed": true
   },
   "outputs": [],
   "source": [
    "%matplotlib inline"
   ]
  },
  {
   "cell_type": "code",
   "execution_count": 2,
   "metadata": {},
   "outputs": [],
   "source": [
    "import pandas as pd\n",
    "import numpy as np\n",
    "import matplotlib.pyplot as plt\n"
   ]
  },
  {
   "cell_type": "code",
   "execution_count": 6,
   "metadata": {},
   "outputs": [
    {
     "data": {
      "text/html": [
       "<div>\n",
       "<style>\n",
       "    .dataframe thead tr:only-child th {\n",
       "        text-align: right;\n",
       "    }\n",
       "\n",
       "    .dataframe thead th {\n",
       "        text-align: left;\n",
       "    }\n",
       "\n",
       "    .dataframe tbody tr th {\n",
       "        vertical-align: top;\n",
       "    }\n",
       "</style>\n",
       "<table border=\"1\" class=\"dataframe\">\n",
       "  <thead>\n",
       "    <tr style=\"text-align: right;\">\n",
       "      <th></th>\n",
       "      <th>sepal_length</th>\n",
       "      <th>sepal_width</th>\n",
       "      <th>petal_length</th>\n",
       "      <th>petal_width</th>\n",
       "      <th>class</th>\n",
       "    </tr>\n",
       "  </thead>\n",
       "  <tbody>\n",
       "    <tr>\n",
       "      <th>145</th>\n",
       "      <td>6.7</td>\n",
       "      <td>3.0</td>\n",
       "      <td>5.2</td>\n",
       "      <td>2.3</td>\n",
       "      <td>Iris-virginica</td>\n",
       "    </tr>\n",
       "    <tr>\n",
       "      <th>146</th>\n",
       "      <td>6.3</td>\n",
       "      <td>2.5</td>\n",
       "      <td>5.0</td>\n",
       "      <td>1.9</td>\n",
       "      <td>Iris-virginica</td>\n",
       "    </tr>\n",
       "    <tr>\n",
       "      <th>147</th>\n",
       "      <td>6.5</td>\n",
       "      <td>3.0</td>\n",
       "      <td>5.2</td>\n",
       "      <td>2.0</td>\n",
       "      <td>Iris-virginica</td>\n",
       "    </tr>\n",
       "    <tr>\n",
       "      <th>148</th>\n",
       "      <td>6.2</td>\n",
       "      <td>3.4</td>\n",
       "      <td>5.4</td>\n",
       "      <td>2.3</td>\n",
       "      <td>Iris-virginica</td>\n",
       "    </tr>\n",
       "    <tr>\n",
       "      <th>149</th>\n",
       "      <td>5.9</td>\n",
       "      <td>3.0</td>\n",
       "      <td>5.1</td>\n",
       "      <td>1.8</td>\n",
       "      <td>Iris-virginica</td>\n",
       "    </tr>\n",
       "  </tbody>\n",
       "</table>\n",
       "</div>"
      ],
      "text/plain": [
       "<div>\n",
       "<style>\n",
       "    .dataframe thead tr:only-child th {\n",
       "        text-align: right;\n",
       "    }\n",
       "\n",
       "    .dataframe thead th {\n",
       "        text-align: left;\n",
       "    }\n",
       "\n",
       "    .dataframe tbody tr th {\n",
       "        vertical-align: top;\n",
       "    }\n",
       "</style>\n",
       "<table border=\"1\" class=\"dataframe\">\n",
       "  <thead>\n",
       "    <tr style=\"text-align: right;\">\n",
       "      <th></th>\n",
       "      <th>sepal_length</th>\n",
       "      <th>sepal_width</th>\n",
       "      <th>petal_length</th>\n",
       "      <th>petal_width</th>\n",
       "      <th>class</th>\n",
       "    </tr>\n",
       "  </thead>\n",
       "  <tbody>\n",
       "    <tr>\n",
       "      <th>145</th>\n",
       "      <td>6.7</td>\n",
       "      <td>3.0</td>\n",
       "      <td>5.2</td>\n",
       "      <td>2.3</td>\n",
       "      <td>Iris-virginica</td>\n",
       "    </tr>\n",
       "    <tr>\n",
       "      <th>146</th>\n",
       "      <td>6.3</td>\n",
       "      <td>2.5</td>\n",
       "      <td>5.0</td>\n",
       "      <td>1.9</td>\n",
       "      <td>Iris-virginica</td>\n",
       "    </tr>\n",
       "    <tr>\n",
       "      <th>147</th>\n",
       "      <td>6.5</td>\n",
       "      <td>3.0</td>\n",
       "      <td>5.2</td>\n",
       "      <td>2.0</td>\n",
       "      <td>Iris-virginica</td>\n",
       "    </tr>\n",
       "    <tr>\n",
       "      <th>148</th>\n",
       "      <td>6.2</td>\n",
       "      <td>3.4</td>\n",
       "      <td>5.4</td>\n",
       "      <td>2.3</td>\n",
       "      <td>Iris-virginica</td>\n",
       "    </tr>\n",
       "    <tr>\n",
       "      <th>149</th>\n",
       "      <td>5.9</td>\n",
       "      <td>3.0</td>\n",
       "      <td>5.1</td>\n",
       "      <td>1.8</td>\n",
       "      <td>Iris-virginica</td>\n",
       "    </tr>\n",
       "  </tbody>\n",
       "</table>\n",
       "</div>"
      ]
     },
     "execution_count": 6,
     "metadata": {},
     "output_type": "execute_result"
    }
   ],
   "source": [
    "df = pd.read_csv(r'C:\\Users\\Owner\\datascience_tutorial\\pydata-chicago2016-ml-tutorial\\code\\dataset_iris.txt',\n",
    "                 encoding='utf-8',\n",
    "                 comment='#',\n",
    "                 sep=',')\n",
    "df.tail()"
   ]
  },
  {
   "cell_type": "code",
   "execution_count": 5,
   "metadata": {},
   "outputs": [
    {
     "name": "stdout",
     "output_type": "stream",
     "text": [
      "[[ 5.1  3.5  1.4  0.2]\n [ 4.9  3.   1.4  0.2]\n [ 4.7  3.2  1.3  0.2]\n [ 4.6  3.1  1.5  0.2]\n [ 5.   3.6  1.4  0.2]\n [ 5.4  3.9  1.7  0.4]\n [ 4.6  3.4  1.4  0.3]\n [ 5.   3.4  1.5  0.2]\n [ 4.4  2.9  1.4  0.2]\n [ 4.9  3.1  1.5  0.1]\n [ 5.4  3.7  1.5  0.2]\n [ 4.8  3.4  1.6  0.2]\n [ 4.8  3.   1.4  0.1]\n [ 4.3  3.   1.1  0.1]\n [ 5.8  4.   1.2  0.2]\n [ 5.7  4.4  1.5  0.4]\n [ 5.4  3.9  1.3  0.4]\n [ 5.1  3.5  1.4  0.3]\n [ 5.7  3.8  1.7  0.3]\n [ 5.1  3.8  1.5  0.3]\n [ 5.4  3.4  1.7  0.2]\n [ 5.1  3.7  1.5  0.4]\n [ 4.6  3.6  1.   0.2]\n [ 5.1  3.3  1.7  0.5]\n [ 4.8  3.4  1.9  0.2]\n [ 5.   3.   1.6  0.2]\n [ 5.   3.4  1.6  0.4]\n [ 5.2  3.5  1.5  0.2]\n [ 5.2  3.4  1.4  0.2]\n [ 4.7  3.2  1.6  0.2]\n [ 4.8  3.1  1.6  0.2]\n [ 5.4  3.4  1.5  0.4]\n [ 5.2  4.1  1.5  0.1]\n [ 5.5  4.2  1.4  0.2]\n [ 4.9  3.1  1.5  0.1]\n [ 5.   3.2  1.2  0.2]\n [ 5.5  3.5  1.3  0.2]\n [ 4.9  3.1  1.5  0.1]\n [ 4.4  3.   1.3  0.2]\n [ 5.1  3.4  1.5  0.2]\n [ 5.   3.5  1.3  0.3]\n [ 4.5  2.3  1.3  0.3]\n [ 4.4  3.2  1.3  0.2]\n [ 5.   3.5  1.6  0.6]\n [ 5.1  3.8  1.9  0.4]\n [ 4.8  3.   1.4  0.3]\n [ 5.1  3.8  1.6  0.2]\n [ 4.6  3.2  1.4  0.2]\n [ 5.3  3.7  1.5  0.2]\n [ 5.   3.3  1.4  0.2]\n [ 7.   3.2  4.7  1.4]\n [ 6.4  3.2  4.5  1.5]\n [ 6.9  3.1  4.9  1.5]\n [ 5.5  2.3  4.   1.3]\n [ 6.5  2.8  4.6  1.5]\n [ 5.7  2.8  4.5  1.3]\n [ 6.3  3.3  4.7  1.6]\n [ 4.9  2.4  3.3  1. ]\n [ 6.6  2.9  4.6  1.3]\n [ 5.2  2.7  3.9  1.4]\n [ 5.   2.   3.5  1. ]\n [ 5.9  3.   4.2  1.5]\n [ 6.   2.2  4.   1. ]\n [ 6.1  2.9  4.7  1.4]\n [ 5.6  2.9  3.6  1.3]\n [ 6.7  3.1  4.4  1.4]\n [ 5.6  3.   4.5  1.5]\n [ 5.8  2.7  4.1  1. ]\n [ 6.2  2.2  4.5  1.5]\n [ 5.6  2.5  3.9  1.1]\n [ 5.9  3.2  4.8  1.8]\n [ 6.1  2.8  4.   1.3]\n [ 6.3  2.5  4.9  1.5]\n [ 6.1  2.8  4.7  1.2]\n [ 6.4  2.9  4.3  1.3]\n [ 6.6  3.   4.4  1.4]\n [ 6.8  2.8  4.8  1.4]\n [ 6.7  3.   5.   1.7]\n [ 6.   2.9  4.5  1.5]\n [ 5.7  2.6  3.5  1. ]\n [ 5.5  2.4  3.8  1.1]\n [ 5.5  2.4  3.7  1. ]\n [ 5.8  2.7  3.9  1.2]\n [ 6.   2.7  5.1  1.6]\n [ 5.4  3.   4.5  1.5]\n [ 6.   3.4  4.5  1.6]\n [ 6.7  3.1  4.7  1.5]\n [ 6.3  2.3  4.4  1.3]\n [ 5.6  3.   4.1  1.3]\n [ 5.5  2.5  4.   1.3]\n [ 5.5  2.6  4.4  1.2]\n [ 6.1  3.   4.6  1.4]\n [ 5.8  2.6  4.   1.2]\n [ 5.   2.3  3.3  1. ]\n [ 5.6  2.7  4.2  1.3]\n [ 5.7  3.   4.2  1.2]\n [ 5.7  2.9  4.2  1.3]\n [ 6.2  2.9  4.3  1.3]\n [ 5.1  2.5  3.   1.1]\n [ 5.7  2.8  4.1  1.3]\n [ 6.3  3.3  6.   2.5]\n [ 5.8  2.7  5.1  1.9]\n [ 7.1  3.   5.9  2.1]\n [ 6.3  2.9  5.6  1.8]\n [ 6.5  3.   5.8  2.2]\n [ 7.6  3.   6.6  2.1]\n [ 4.9  2.5  4.5  1.7]\n [ 7.3  2.9  6.3  1.8]\n [ 6.7  2.5  5.8  1.8]\n [ 7.2  3.6  6.1  2.5]\n [ 6.5  3.2  5.1  2. ]\n [ 6.4  2.7  5.3  1.9]\n [ 6.8  3.   5.5  2.1]\n [ 5.7  2.5  5.   2. ]\n [ 5.8  2.8  5.1  2.4]\n [ 6.4  3.2  5.3  2.3]\n [ 6.5  3.   5.5  1.8]\n [ 7.7  3.8  6.7  2.2]\n [ 7.7  2.6  6.9  2.3]\n [ 6.   2.2  5.   1.5]\n [ 6.9  3.2  5.7  2.3]\n [ 5.6  2.8  4.9  2. ]\n [ 7.7  2.8  6.7  2. ]\n [ 6.3  2.7  4.9  1.8]\n [ 6.7  3.3  5.7  2.1]\n [ 7.2  3.2  6.   1.8]\n [ 6.2  2.8  4.8  1.8]\n [ 6.1  3.   4.9  1.8]\n [ 6.4  2.8  5.6  2.1]\n [ 7.2  3.   5.8  1.6]\n [ 7.4  2.8  6.1  1.9]\n [ 7.9  3.8  6.4  2. ]\n [ 6.4  2.8  5.6  2.2]\n [ 6.3  2.8  5.1  1.5]\n [ 6.1  2.6  5.6  1.4]\n [ 7.7  3.   6.1  2.3]\n [ 6.3  3.4  5.6  2.4]\n [ 6.4  3.1  5.5  1.8]\n [ 6.   3.   4.8  1.8]\n [ 6.9  3.1  5.4  2.1]\n [ 6.7  3.1  5.6  2.4]\n [ 6.9  3.1  5.1  2.3]\n [ 5.8  2.7  5.1  1.9]\n [ 6.8  3.2  5.9  2.3]\n [ 6.7  3.3  5.7  2.5]\n [ 6.7  3.   5.2  2.3]\n [ 6.3  2.5  5.   1.9]\n [ 6.5  3.   5.2  2. ]\n [ 6.2  3.4  5.4  2.3]\n [ 5.9  3.   5.1  1.8]]\n"
     ]
    }
   ],
   "source": [
    "X = df.iloc[:, :4].values\n",
    "y = df['class'].values\n",
    "print(X)"
   ]
  },
  {
   "cell_type": "code",
   "execution_count": null,
   "metadata": {},
   "outputs": [],
   "source": []
  }
 ],
 "metadata": {
  "kernelspec": {
   "display_name": "Python 2",
   "language": "python",
   "name": "python2"
  },
  "language_info": {
   "codemirror_mode": {
    "name": "ipython",
    "version": 2
   },
   "file_extension": ".py",
   "mimetype": "text/x-python",
   "name": "python",
   "nbconvert_exporter": "python",
   "pygments_lexer": "ipython2",
   "version": "2.7.6"
  }
 },
 "nbformat": 4,
 "nbformat_minor": 0
}
